{
  "nbformat": 4,
  "nbformat_minor": 0,
  "metadata": {
    "colab": {
      "provenance": [],
      "toc_visible": true,
      "authorship_tag": "ABX9TyP85avp34WLP8PsiQAgR7q/",
      "include_colab_link": true
    },
    "kernelspec": {
      "name": "python3",
      "display_name": "Python 3"
    },
    "language_info": {
      "name": "python"
    }
  },
  "cells": [
    {
      "cell_type": "markdown",
      "metadata": {
        "id": "view-in-github",
        "colab_type": "text"
      },
      "source": [
        "<a href=\"https://colab.research.google.com/github/matthewkim0617/Financial-Mathematics/blob/main/Monte_Carlo.ipynb\" target=\"_parent\"><img src=\"https://colab.research.google.com/assets/colab-badge.svg\" alt=\"Open In Colab\"/></a>"
      ]
    },
    {
      "cell_type": "markdown",
      "source": [
        "#Monte Carlo Pricer"
      ],
      "metadata": {
        "id": "xhLfHaDMgsQw"
      }
    },
    {
      "cell_type": "code",
      "execution_count": null,
      "metadata": {
        "id": "WHEzugR9golX"
      },
      "outputs": [],
      "source": [
        "# Import dependencies\n",
        "import math\n",
        "import numpy as np\n",
        "import pandas as pd\n",
        "import datetime\n",
        "import scipy.stats as stats\n",
        "import matplotlib.pyplot as plt\n",
        "import yfinance as yf"
      ]
    },
    {
      "cell_type": "code",
      "source": [
        "# initial derivative parameters\n",
        "S = 101.15          #stock price\n",
        "K = 98.01           #strike price\n",
        "vol = 0.0991        #volatility (%)\n",
        "r = 0.01            #risk-free rate (%)\n",
        "N = 10              #number of time steps\n",
        "M = 1000         #number of simulations\n",
        "\n",
        "market_value = 3.83 #market price of option\n",
        "T = ((datetime.date(2022,3,17)-datetime.date(2022,1,17)).days+1)/365    #time in years\n",
        "print(T)"
      ],
      "metadata": {
        "colab": {
          "base_uri": "https://localhost:8080/"
        },
        "id": "wD7UmzLSiB48",
        "outputId": "65003c90-80dd-415b-d6f1-77a316b43ffa"
      },
      "execution_count": null,
      "outputs": [
        {
          "output_type": "stream",
          "name": "stdout",
          "text": [
            "0.1643835616438356\n"
          ]
        }
      ]
    },
    {
      "cell_type": "markdown",
      "source": [
        "The stock dynamic is model with GBM"
      ],
      "metadata": {
        "id": "rZf7cxXX3VA1"
      }
    },
    {
      "cell_type": "code",
      "source": [
        "#precompute constants\n",
        "dt = T/N\n",
        "nudt = (r - 0.5*vol**2)*dt\n",
        "volsdt = vol*np.sqrt(dt)\n",
        "lnS = np.log(S)\n",
        "\n",
        "# Monte Carlo Method\n",
        "Z = np.random.normal(size=(N, M))\n",
        "delta_lnSt = nudt + volsdt*Z\n",
        "lnSt = lnS + np.cumsum(delta_lnSt, axis=0)\n",
        "lnSt = np.concatenate( (np.full(shape=(1, M), fill_value=lnS), lnSt ) )\n",
        "\n",
        "# Compute Expectation and SE\n",
        "ST = np.exp(lnSt)\n",
        "CT = np.maximum(0, ST - K)\n",
        "C0 = np.exp(-r*T)*np.sum(CT[-1])/M\n",
        "\n",
        "sigma = np.sqrt( np.sum( (CT[-1] - C0)**2) / (M-1) )\n",
        "SE = sigma/np.sqrt(M)\n",
        "\n",
        "print(\"Call value is ${0} with SE +/- {1}\".format(np.round(C0,2),np.round(SE,2)))"
      ],
      "metadata": {
        "colab": {
          "base_uri": "https://localhost:8080/"
        },
        "id": "VpvZxEwG3Tzf",
        "outputId": "6698e06e-fa66-4836-c198-175c01983634"
      },
      "execution_count": null,
      "outputs": [
        {
          "output_type": "stream",
          "name": "stdout",
          "text": [
            "Call value is $3.61 with SE +/- 0.11\n"
          ]
        }
      ]
    },
    {
      "cell_type": "code",
      "source": [
        "x1 = np.linspace(C0-3*SE, C0-1*SE, 100)\n",
        "x2 = np.linspace(C0-1*SE, C0+1*SE, 100)\n",
        "x3 = np.linspace(C0+1*SE, C0+3*SE, 100)\n",
        "\n",
        "s1 = stats.norm.pdf(x1, C0, SE)\n",
        "s2 = stats.norm.pdf(x2, C0, SE)\n",
        "s3 = stats.norm.pdf(x3, C0, SE)\n",
        "\n",
        "plt.fill_between(x1, s1, color='tab:blue',label='> StDev')\n",
        "plt.fill_between(x2, s2, color='cornflowerblue',label='1 StDev')\n",
        "plt.fill_between(x3, s3, color='tab:blue')\n",
        "\n",
        "plt.plot([C0,C0],[0, max(s2)*1.1], 'k',\n",
        "        label='Theoretical Value')\n",
        "plt.plot([market_value,market_value],[0, max(s2)*1.1], 'r',\n",
        "        label='Market Value')\n",
        "\n",
        "plt.ylabel(\"Probability\")\n",
        "plt.xlabel(\"Option Price\")\n",
        "plt.legend()\n",
        "plt.show()"
      ],
      "metadata": {
        "colab": {
          "base_uri": "https://localhost:8080/",
          "height": 449
        },
        "id": "9JQ3UDSwn052",
        "outputId": "3d0ddeb0-5bd5-467b-930a-242170aaed6f"
      },
      "execution_count": null,
      "outputs": [
        {
          "output_type": "display_data",
          "data": {
            "text/plain": [
              "<Figure size 640x480 with 1 Axes>"
            ],
            "image/png": "[encoded data removed]"
          },
          "metadata": {}
        }
      ]
    },
    {
      "cell_type": "markdown",
      "source": [
        "# Variance Reduction"
      ],
      "metadata": {
        "id": "t_gmVJFAoNvl"
      }
    },
    {
      "cell_type": "markdown",
      "source": [
        "First Method: Antithetic Variates"
      ],
      "metadata": {
        "id": "Y9G8XVgHojR0"
      }
    },
    {
      "cell_type": "code",
      "source": [
        "#precompute constants\n",
        "N = 1\n",
        "dt = T/N\n",
        "nudt = (r - 0.5*vol**2)*dt\n",
        "volsdt = vol*np.sqrt(dt)\n",
        "lnS = np.log(S)\n",
        "\n",
        "# Monte Carlo Method\n",
        "Z = np.random.normal(size=(N, M))\n",
        "delta_lnSt1 = nudt + volsdt*Z\n",
        "delta_lnSt2 = nudt - volsdt*Z\n",
        "lnSt1 = lnS + np.cumsum(delta_lnSt1, axis=0)\n",
        "lnSt2 = lnS + np.cumsum(delta_lnSt2, axis=0)\n",
        "\n",
        "# Compute Expectation and SE\n",
        "ST1 = np.exp(lnSt1)\n",
        "ST2 = np.exp(lnSt2)\n",
        "CT_Anti = 0.5 * ( np.maximum(0, ST1[-1] - K) + np.maximum(0, ST2[-1] - K) )\n",
        "C0_Anti = np.exp(-r*T)*np.sum(CT_Anti)/M\n",
        "\n",
        "sigma_Anti = np.sqrt( np.sum( (CT_Anti - C0_Anti)**2) / (M-1) )\n",
        "SE_Anti = sigma_Anti/np.sqrt(M)\n",
        "\n",
        "print(\"Call value is ${0} with SE +/- {1}\".format(np.round(C0,2),np.round(SE_Anti,2)))"
      ],
      "metadata": {
        "colab": {
          "base_uri": "https://localhost:8080/"
        },
        "id": "rXKJas9CoTyU",
        "outputId": "060cf688-cc34-4839-99e7-387913db565d"
      },
      "execution_count": null,
      "outputs": [
        {
          "output_type": "stream",
          "name": "stdout",
          "text": [
            "Call value is $3.61 with SE +/- 0.03\n"
          ]
        }
      ]
    },
    {
      "cell_type": "code",
      "source": [
        "x1 = np.linspace(C0_Anti-3*SE_Anti, C0_Anti-1*SE_Anti, 100)\n",
        "x2 = np.linspace(C0_Anti-1*SE_Anti, C0_Anti+1*SE_Anti, 100)\n",
        "x3 = np.linspace(C0_Anti+1*SE_Anti, C0_Anti+3*SE_Anti, 100)\n",
        "xw = np.linspace(C0-3*SE, C0+3*SE, 100)\n",
        "\n",
        "s1 = stats.norm.pdf(x1, C0_Anti, SE_Anti)\n",
        "s2 = stats.norm.pdf(x2, C0_Anti, SE_Anti)\n",
        "s3 = stats.norm.pdf(x3, C0_Anti, SE_Anti)\n",
        "sw = stats.norm.pdf(xw, C0, SE)\n",
        "\n",
        "plt.fill_between(x1, s1, color='tab:blue',label='> StDev')\n",
        "plt.fill_between(x2, s2, color='cornflowerblue',label='1 StDev')\n",
        "plt.fill_between(x3, s3, color='tab:blue')\n",
        "plt.plot(xw, sw, 'g-')\n",
        "plt.fill_between(xw, sw, alpha=0.2, color='tab:green', label='w/o Antithetic')\n",
        "\n",
        "plt.plot([C0_Anti,C0_Anti],[0, max(s2)*1.1], 'k',\n",
        "        label='Theoretical Value')\n",
        "plt.plot([C0,C0],[0, max(s2)*1.1], color='tab:green',\n",
        "        label='Value w/o Antithetic')\n",
        "plt.plot([market_value,market_value],[0, max(s2)*1.1], 'r',\n",
        "        label='Market Value')\n",
        "\n",
        "plt.ylabel(\"Probability\")\n",
        "plt.xlabel(\"Option Price\")\n",
        "plt.legend()\n",
        "plt.show()"
      ],
      "metadata": {
        "colab": {
          "base_uri": "https://localhost:8080/",
          "height": 449
        },
        "id": "d5aVFRqN5btj",
        "outputId": "612bac87-eb16-401e-de23-fe0f6a845e30"
      },
      "execution_count": null,
      "outputs": [
        {
          "output_type": "display_data",
          "data": {
            "text/plain": [
              "<Figure size 640x480 with 1 Axes>"
            ],
            "image/png": "[encoded data removed]"
          },
          "metadata": {}
        }
      ]
    },
    {
      "cell_type": "code",
      "source": [],
      "metadata": {
        "id": "NL0xQrPS7Ga2"
      },
      "execution_count": null,
      "outputs": []
    },
    {
      "cell_type": "markdown",
      "source": [
        "# Control Variates"
      ],
      "metadata": {
        "id": "bJ1UaekY_Y_V"
      }
    },
    {
      "cell_type": "code",
      "source": [
        "!pip install py_vollib"
      ],
      "metadata": {
        "collapsed": true,
        "colab": {
          "base_uri": "https://localhost:8080/"
        },
        "id": "twch-gGv_fra",
        "outputId": "2eb64be2-1c58-4ffb-af55-d744e71948e7"
      },
      "execution_count": null,
      "outputs": [
        {
          "output_type": "stream",
          "name": "stdout",
          "text": [
            "Collecting py_vollib\n",
            "  Downloading py_vollib-1.0.1.tar.gz (19 kB)\n",
            "  Preparing metadata (setup.py) ... \u001b[?25l\u001b[?25hdone\n",
            "Collecting py_lets_be_rational (from py_vollib)\n",
            "  Downloading py_lets_be_rational-1.0.1.tar.gz (18 kB)\n",
            "  Preparing metadata (setup.py) ... \u001b[?25l\u001b[?25hdone\n",
            "Collecting simplejson (from py_vollib)\n",
            "  Downloading simplejson-3.19.3-cp310-cp310-manylinux_2_5_x86_64.manylinux1_x86_64.manylinux_2_17_x86_64.manylinux2014_x86_64.whl.metadata (3.2 kB)\n",
            "Requirement already satisfied: numpy in /usr/local/lib/python3.10/dist-packages (from py_vollib) (1.26.4)\n",
            "Requirement already satisfied: pandas in /usr/local/lib/python3.10/dist-packages (from py_vollib) (2.2.2)\n",
            "Requirement already satisfied: scipy in /usr/local/lib/python3.10/dist-packages (from py_vollib) (1.13.1)\n",
            "Requirement already satisfied: python-dateutil>=2.8.2 in /usr/local/lib/python3.10/dist-packages (from pandas->py_vollib) (2.8.2)\n",
            "Requirement already satisfied: pytz>=2020.1 in /usr/local/lib/python3.10/dist-packages (from pandas->py_vollib) (2024.2)\n",
            "Requirement already satisfied: tzdata>=2022.7 in /usr/local/lib/python3.10/dist-packages (from pandas->py_vollib) (2024.2)\n",
            "Requirement already satisfied: six>=1.5 in /usr/local/lib/python3.10/dist-packages (from python-dateutil>=2.8.2->pandas->py_vollib) (1.17.0)\n",
            "Downloading simplejson-3.19.3-cp310-cp310-manylinux_2_5_x86_64.manylinux1_x86_64.manylinux_2_17_x86_64.manylinux2014_x86_64.whl (137 kB)\n",
            "\u001b[2K   \u001b[90m━━━━━━━━━━━━━━━━━━━━━━━━━━━━━━━━━━━━━━━━\u001b[0m \u001b[32m137.9/137.9 kB\u001b[0m \u001b[31m4.7 MB/s\u001b[0m eta \u001b[36m0:00:00\u001b[0m\n",
            "\u001b[?25hBuilding wheels for collected packages: py_vollib, py_lets_be_rational\n",
            "  Building wheel for py_vollib (setup.py) ... \u001b[?25l\u001b[?25hdone\n",
            "  Created wheel for py_vollib: filename=py_vollib-1.0.1-py3-none-any.whl size=62832 sha256=db0c22bebb57ffe891cfcd1430d78c637a0189d3506c90bf170a6d366eb4d771\n",
            "  Stored in directory: /root/.cache/pip/wheels/84/0c/fc/b68506eda40cccaeb0013be550ba904d253ec90eae2b156052\n",
            "  Building wheel for py_lets_be_rational (setup.py) ... \u001b[?25l\u001b[?25hdone\n",
            "  Created wheel for py_lets_be_rational: filename=py_lets_be_rational-1.0.1-py3-none-any.whl size=24450 sha256=b24930b083ccb4c071a769378b528b4bf93299efca929ac0dad17afdf868a990\n",
            "  Stored in directory: /root/.cache/pip/wheels/32/d9/4f/360d4b0b9ec7c65583ec7c8e72fd2158c97ad04fbcb932891c\n",
            "Successfully built py_vollib py_lets_be_rational\n",
            "Installing collected packages: simplejson, py_lets_be_rational, py_vollib\n",
            "Successfully installed py_lets_be_rational-1.0.1 py_vollib-1.0.1 simplejson-3.19.3\n"
          ]
        }
      ]
    },
    {
      "cell_type": "code",
      "source": [
        "from py_vollib.black_scholes.implied_volatility import implied_volatility as iv\n",
        "from py_vollib.black_scholes import black_scholes as bs\n",
        "from py_vollib.black_scholes.greeks.analytical import vega, delta"
      ],
      "metadata": {
        "id": "cGw_hNZa_caj"
      },
      "execution_count": null,
      "outputs": []
    },
    {
      "cell_type": "code",
      "source": [
        "def delta_calc(r, S, K, T, sigma, type=\"c\"):\n",
        "    \"Calculate delta of an option\"\n",
        "    d1 = (np.log(S/K) + (r + sigma**2/2)*T)/(sigma*np.sqrt(T))\n",
        "    try:\n",
        "        if type == \"c\":\n",
        "            delta_calc = stats.norm.cdf(d1, 0, 1)\n",
        "        elif type == \"p\":\n",
        "            delta_calc = -stats.norm.cdf(-d1, 0, 1)\n",
        "        return delta_calc\n",
        "    except:\n",
        "        print(\"Please confirm option type, either 'c' for Call or 'p' for Put!\")"
      ],
      "metadata": {
        "id": "upzWjleA_lPb"
      },
      "execution_count": null,
      "outputs": []
    },
    {
      "cell_type": "code",
      "source": [
        "#precompute constants\n",
        "N = 1\n",
        "dt = T/N\n",
        "nudt = (r - 0.5*vol**2)*dt\n",
        "volsdt = vol*np.sqrt(dt)\n",
        "\n",
        "erdt = np.exp(r*dt)\n",
        "cv = 0\n",
        "beta1 = -1\n",
        "\n",
        "# Monte Carlo Method\n",
        "Z = np.random.normal(size=(N, M))\n",
        "delta_St = nudt + volsdt*Z\n",
        "ST_CV = S*np.cumprod( np.exp(delta_St), axis=0)\n",
        "ST_CV = np.concatenate( (np.full(shape=(1, M), fill_value=S), ST_CV ) )\n",
        "deltaSt = delta_calc(r, ST_CV[:-1].T, K, np.linspace(T,0,N), vol, \"c\").T\n",
        "cv = np.cumsum(deltaSt*(ST_CV[1:] - ST_CV[:-1]*erdt), axis=0)\n",
        "\n",
        "\n",
        "CT_cv = np.maximum(0, ST_CV[-1] - K) + beta1*cv[-1]\n",
        "# CT = np.maximum(0, ST[-1] - K)\n",
        "C0_cv = np.exp(-r*T)*np.sum(CT_cv)/M\n",
        "\n",
        "sigma = np.sqrt( np.sum( (np.exp(-r*T)*CT_cv - C0_cv)**2) / (M-1) )\n",
        "sigma = np.std(np.exp(-r*T)*CT_cv)\n",
        "SE_cv = sigma/np.sqrt(M)\n",
        "\n",
        "print(\"Call value is ${0} with SE +/- {1}\".format(np.round(C0,2),np.round(SE,3)))"
      ],
      "metadata": {
        "colab": {
          "base_uri": "https://localhost:8080/"
        },
        "id": "qRQBUqv9Akly",
        "outputId": "5af08802-7e0a-4479-a264-a536b77f4c32"
      },
      "execution_count": null,
      "outputs": [
        {
          "output_type": "stream",
          "name": "stdout",
          "text": [
            "Call value is $3.61 with SE +/- 0.105\n"
          ]
        }
      ]
    }
  ]
}