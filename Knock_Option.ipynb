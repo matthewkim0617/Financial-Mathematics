{
 "cells": [
  {
   "cell_type": "code",
   "execution_count": null,
   "id": "f78bc64b-52c9-4e17-8db7-cb899c840c2f",
   "metadata": {},
   "outputs": [],
   "source": [
    "# Import dependencies\n",
    "import time\n",
    "import numpy as np\n",
    "import matplotlib.pyplot as plt"
   ]
  },
  {
   "cell_type": "code",
   "execution_count": null,
   "id": "9ebde8e3-47d0-42ac-8933-b34e7944a3bc",
   "metadata": {},
   "outputs": [],
   "source": [
    "# Initialise parameters\n",
    "S0 = 100      # initial stock price\n",
    "K = 100       # strike price\n",
    "T = 1         # time to maturity in years\n",
    "H = 125       # up-and-out barrier price/value\n",
    "r = 0.01      # annual risk-free rate\n",
    "vol = 0.2     # volatility (%)\n",
    "\n",
    "N = 100       # number of time steps\n",
    "M = 1000      # number of simulations"
   ]
  },
  {
   "cell_type": "code",
   "execution_count": null,
   "id": "dc2dd7a3-2ff1-450e-8ef1-d31aa1fa0aca",
   "metadata": {},
   "outputs": [],
   "source": [
    "start_time = time.time()\n",
    "\n",
    "#precompute constants\n",
    "dt = T/N\n",
    "nudt = (r - 0.5*vol**2)*dt\n",
    "volsdt = vol*np.sqrt(dt)\n",
    "erdt = np.exp(r*dt)\n",
    "\n",
    "# Monte Carlo Method\n",
    "Z = np.random.normal(size=(N, M))\n",
    "delta_St = nudt + volsdt*Z\n",
    "ST = S0*np.cumprod( np.exp(delta_St), axis=0)\n",
    "ST = np.concatenate( (np.full(shape=(1, M), fill_value=S0), ST ) )\n",
    "\n",
    "# Copy numpy array for plotting\n",
    "S = np.copy(ST)\n",
    "\n",
    "# Apply Barrier Condition to ST numpy array\n",
    "mask = np.any(ST >= H, axis=0)\n",
    "ST[:,mask] = 0\n",
    "\n",
    "CT = np.maximum(0, K - ST[-1][ST[-1] != 0])\n",
    "C0 = np.exp(-r*T)*np.sum(CT)/M\n",
    "\n",
    "sigma = np.sqrt( np.sum( (np.exp(-r*T)*CT - C0)**2) / (M-1) )\n",
    "sigma = np.std(np.exp(-r*T)*CT)\n",
    "SE = sigma/np.sqrt(M)\n",
    "\n",
    "print(\"Call value is ${0} with SE +/- {1}\".format(np.round(C0,2),np.round(SE,3)))\n",
    "print(\"Computation time is: \", round(time.time() - start_time,4))"
   ]
  },
  {
   "cell_type": "code",
   "execution_count": null,
   "id": "953af423-bb54-48bd-8bd2-dd9b5661fc47",
   "metadata": {},
   "outputs": [],
   "source": [
    "plt.figure(figsize=(8,6))\n",
    "\n",
    "plt.rcParams[\"font.family\"] = \"Times New Roman\"\n",
    "plt.rcParams[\"font.size\"] = \"16\"\n",
    "\n",
    "plt.plot(np.linspace(0,T,N+1),S[:,mask],'r')\n",
    "plt.plot(np.linspace(0,T,N+1),S[:,~mask],'g')\n",
    "plt.plot([0,T],[H,H], 'k-',linewidth=5.0)\n",
    "plt.annotate('H', (0.05,130))\n",
    "plt.xlim(0,1)\n",
    "plt.xlabel('Time')\n",
    "plt.ylabel('Price')\n",
    "plt.title('European Up-and-Out Put Option')\n",
    "\n",
    "plt.show()"
   ]
  }
 ],
 "metadata": {
  "kernelspec": {
   "display_name": "Python [conda env:base] *",
   "language": "python",
   "name": "conda-base-py"
  },
  "language_info": {
   "codemirror_mode": {
    "name": "ipython",
    "version": 3
   },
   "file_extension": ".py",
   "mimetype": "text/x-python",
   "name": "python",
   "nbconvert_exporter": "python",
   "pygments_lexer": "ipython3",
   "version": "3.12.7"
  }
 },
 "nbformat": 4,
 "nbformat_minor": 5
}
